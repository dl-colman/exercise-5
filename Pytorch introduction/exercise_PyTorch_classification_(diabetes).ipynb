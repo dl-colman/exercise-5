{
  "nbformat": 4,
  "nbformat_minor": 0,
  "metadata": {
    "colab": {
      "provenance": []
    },
    "kernelspec": {
      "name": "python3",
      "display_name": "Python 3"
    },
    "accelerator": "GPU"
  },
  "cells": [
    {
      "cell_type": "markdown",
      "metadata": {
        "id": "rD_RSER5Lkb5"
      },
      "source": [
        "# Libraries for Neural Networks - PyTorch\n",
        "\n"
      ]
    },
    {
      "cell_type": "markdown",
      "source": [
        "## Import Libraries"
      ],
      "metadata": {
        "id": "huMTTiZPbBm0"
      }
    },
    {
      "cell_type": "markdown",
      "source": [
        "Installs a specific PyTorch version"
      ],
      "metadata": {
        "id": "DuPCGIuUbZuO"
      }
    },
    {
      "cell_type": "code",
      "source": [
        "%%capture\n",
        "!pip install torch==1.5.0+cu101 torchvision==0.6.0+cu101 -f https://download.pytorch.org/whl/torch_stable.html"
      ],
      "metadata": {
        "id": "BefKIa-GevKD"
      },
      "execution_count": 1,
      "outputs": []
    },
    {
      "cell_type": "code",
      "metadata": {
        "id": "AoOTnVFidwII"
      },
      "source": [
        "import torch\n",
        "from sklearn.model_selection import train_test_split\n",
        "from matplotlib import pyplot as plt\n",
        "import numpy as np\n",
        "from sklearn.metrics import accuracy_score, confusion_matrix\n",
        "from sklearn.preprocessing import MinMaxScaler\n",
        "import torch.nn as nn\n",
        "import pandas as pd\n",
        "torch.__version__"
      ],
      "execution_count": null,
      "outputs": []
    },
    {
      "cell_type": "code",
      "source": [
        "from google.colab import drive\n",
        "drive.mount('/content/drive')"
      ],
      "metadata": {
        "id": "ldZvMyyS8Bn6"
      },
      "execution_count": null,
      "outputs": []
    },
    {
      "cell_type": "markdown",
      "metadata": {
        "id": "5tP2BcEILoLB"
      },
      "source": [
        "## Loading the dataset\n"
      ]
    },
    {
      "cell_type": "code",
      "metadata": {
        "id": "7iDc-CB-eGsY"
      },
      "source": [
        "diabetes = pd.read_csv('/content/drive/MyDrive/exercise-4/Pytorch introduction/diabetes.csv')\n",
        "diabetes.head()"
      ],
      "execution_count": null,
      "outputs": []
    },
    {
      "cell_type": "markdown",
      "source": [
        "## Data Preprocessing"
      ],
      "metadata": {
        "id": "3UuS2Ym1e6D3"
      }
    },
    {
      "cell_type": "markdown",
      "source": [
        "### Splitting the dataset into the Training set and Test set"
      ],
      "metadata": {
        "id": "gCt3p0vwe-lJ"
      }
    },
    {
      "cell_type": "markdown",
      "source": [
        "We will split the data into features and labeling (X,y)"
      ],
      "metadata": {
        "id": "u-s6pMvMeV8t"
      }
    },
    {
      "cell_type": "code",
      "metadata": {
        "id": "Y2EfWdzMe1ml"
      },
      "source": [
        "X = diabetes.iloc[:, 0:8].values\n",
        "y = diabetes.iloc[:,8].values"
      ],
      "execution_count": 145,
      "outputs": []
    },
    {
      "cell_type": "markdown",
      "source": [
        "Scaling"
      ],
      "metadata": {
        "id": "_8ZIUm_g9jyE"
      }
    },
    {
      "cell_type": "code",
      "source": [
        "scaler = MinMaxScaler()\n",
        "X = scaler.fit_transform(X)"
      ],
      "metadata": {
        "id": "TfZP_dZY9lUd"
      },
      "execution_count": 146,
      "outputs": []
    },
    {
      "cell_type": "markdown",
      "source": [
        "We will separate the training set from the test set"
      ],
      "metadata": {
        "id": "7UDXIgLPfJ2w"
      }
    },
    {
      "cell_type": "code",
      "metadata": {
        "id": "zXAfgiLCfFLM"
      },
      "source": [
        "X_train, X_test, y_train, y_test = train_test_split(X, y, test_size = 0.25)"
      ],
      "execution_count": 240,
      "outputs": []
    }
  ]
}