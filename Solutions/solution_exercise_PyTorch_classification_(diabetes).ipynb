{
 "nbformat": 4,
 "nbformat_minor": 0,
 "metadata": {
  "colab": {
   "provenance": []
  },
  "kernelspec": {
   "name": "python3",
   "display_name": "Python 3"
  },
  "accelerator": "GPU"
 },
 "cells": [
  {
   "cell_type": "markdown",
   "metadata": {
    "id": "rD_RSER5Lkb5"
   },
   "source": [
    "# Libraries for Neural Networks - PyTorch\n",
    "\n"
   ]
  },
  {
   "cell_type": "markdown",
   "source": [
    "## Import Libraries"
   ],
   "metadata": {
    "id": "huMTTiZPbBm0"
   }
  },
  {
   "cell_type": "markdown",
   "source": [
    "Installs a specific PyTorch version"
   ],
   "metadata": {
    "id": "DuPCGIuUbZuO"
   }
  },
  {
   "cell_type": "code",
   "source": [
    "%%capture\n",
    "!pip install torch==1.5.0+cu101 torchvision==0.6.0+cu101 -f https://download.pytorch.org/whl/torch_stable.html"
   ],
   "metadata": {
    "id": "BefKIa-GevKD"
   },
   "execution_count": 1,
   "outputs": []
  },
  {
   "cell_type": "code",
   "metadata": {
    "id": "AoOTnVFidwII",
    "colab": {
     "base_uri": "https://localhost:8080/",
     "height": 36
    },
    "outputId": "22faa179-b142-4fd6-e43d-2a5860fb355f"
   },
   "source": [
    "import torch\n",
    "from sklearn.model_selection import train_test_split\n",
    "from matplotlib import pyplot as plt\n",
    "import numpy as np\n",
    "from sklearn.metrics import accuracy_score, confusion_matrix\n",
    "from sklearn.preprocessing import MinMaxScaler\n",
    "import torch.nn as nn\n",
    "import pandas as pd\n",
    "torch.__version__"
   ],
   "execution_count": 2,
   "outputs": [
    {
     "output_type": "execute_result",
     "data": {
      "text/plain": [
       "'1.5.0+cu101'"
      ],
      "application/vnd.google.colaboratory.intrinsic+json": {
       "type": "string"
      }
     },
     "metadata": {},
     "execution_count": 2
    }
   ]
  },
  {
   "cell_type": "code",
   "source": [
    "from google.colab import drive\n",
    "drive.mount('/content/drive')"
   ],
   "metadata": {
    "colab": {
     "base_uri": "https://localhost:8080/"
    },
    "id": "ldZvMyyS8Bn6",
    "outputId": "bd48d149-39c9-4bb3-c4f9-bf43c27f0d17"
   },
   "execution_count": 4,
   "outputs": [
    {
     "output_type": "stream",
     "name": "stdout",
     "text": [
      "Mounted at /content/drive\n"
     ]
    }
   ]
  },
  {
   "cell_type": "markdown",
   "metadata": {
    "id": "5tP2BcEILoLB"
   },
   "source": [
    "## Loading the dataset\n"
   ]
  },
  {
   "cell_type": "code",
   "metadata": {
    "id": "7iDc-CB-eGsY",
    "colab": {
     "base_uri": "https://localhost:8080/",
     "height": 206
    },
    "outputId": "6105cb52-67cd-4eaa-f224-3cdf528d025a"
   },
   "source": [
    "diabetes = pd.read_csv('/content/drive/MyDrive/exercise-4/Pytorch introduction/diabetes.csv')\n",
    "diabetes.head()"
   ],
   "execution_count": 118,
   "outputs": [
    {
     "output_type": "execute_result",
     "data": {
      "text/plain": [
       "   Pregnancies  Glucose  BloodPressure  SkinThickness  Insulin   BMI  \\\n",
       "0            6      148             72             35        0  33.6   \n",
       "1            1       85             66             29        0  26.6   \n",
       "2            8      183             64              0        0  23.3   \n",
       "3            1       89             66             23       94  28.1   \n",
       "4            0      137             40             35      168  43.1   \n",
       "\n",
       "   DiabetesPedigreeFunction  Age  Outcome  \n",
       "0                     0.627   50        1  \n",
       "1                     0.351   31        0  \n",
       "2                     0.672   32        1  \n",
       "3                     0.167   21        0  \n",
       "4                     2.288   33        1  "
      ],
      "text/html": [
       "\n",
       "  <div id=\"df-ece33678-ed78-4887-9068-5548c8e92b59\">\n",
       "    <div class=\"colab-df-container\">\n",
       "      <div>\n",
       "<style scoped>\n",
       "    .dataframe tbody tr th:only-of-type {\n",
       "        vertical-align: middle;\n",
       "    }\n",
       "\n",
       "    .dataframe tbody tr th {\n",
       "        vertical-align: top;\n",
       "    }\n",
       "\n",
       "    .dataframe thead th {\n",
       "        text-align: right;\n",
       "    }\n",
       "</style>\n",
       "<table border=\"1\" class=\"dataframe\">\n",
       "  <thead>\n",
       "    <tr style=\"text-align: right;\">\n",
       "      <th></th>\n",
       "      <th>Pregnancies</th>\n",
       "      <th>Glucose</th>\n",
       "      <th>BloodPressure</th>\n",
       "      <th>SkinThickness</th>\n",
       "      <th>Insulin</th>\n",
       "      <th>BMI</th>\n",
       "      <th>DiabetesPedigreeFunction</th>\n",
       "      <th>Age</th>\n",
       "      <th>Outcome</th>\n",
       "    </tr>\n",
       "  </thead>\n",
       "  <tbody>\n",
       "    <tr>\n",
       "      <th>0</th>\n",
       "      <td>6</td>\n",
       "      <td>148</td>\n",
       "      <td>72</td>\n",
       "      <td>35</td>\n",
       "      <td>0</td>\n",
       "      <td>33.6</td>\n",
       "      <td>0.627</td>\n",
       "      <td>50</td>\n",
       "      <td>1</td>\n",
       "    </tr>\n",
       "    <tr>\n",
       "      <th>1</th>\n",
       "      <td>1</td>\n",
       "      <td>85</td>\n",
       "      <td>66</td>\n",
       "      <td>29</td>\n",
       "      <td>0</td>\n",
       "      <td>26.6</td>\n",
       "      <td>0.351</td>\n",
       "      <td>31</td>\n",
       "      <td>0</td>\n",
       "    </tr>\n",
       "    <tr>\n",
       "      <th>2</th>\n",
       "      <td>8</td>\n",
       "      <td>183</td>\n",
       "      <td>64</td>\n",
       "      <td>0</td>\n",
       "      <td>0</td>\n",
       "      <td>23.3</td>\n",
       "      <td>0.672</td>\n",
       "      <td>32</td>\n",
       "      <td>1</td>\n",
       "    </tr>\n",
       "    <tr>\n",
       "      <th>3</th>\n",
       "      <td>1</td>\n",
       "      <td>89</td>\n",
       "      <td>66</td>\n",
       "      <td>23</td>\n",
       "      <td>94</td>\n",
       "      <td>28.1</td>\n",
       "      <td>0.167</td>\n",
       "      <td>21</td>\n",
       "      <td>0</td>\n",
       "    </tr>\n",
       "    <tr>\n",
       "      <th>4</th>\n",
       "      <td>0</td>\n",
       "      <td>137</td>\n",
       "      <td>40</td>\n",
       "      <td>35</td>\n",
       "      <td>168</td>\n",
       "      <td>43.1</td>\n",
       "      <td>2.288</td>\n",
       "      <td>33</td>\n",
       "      <td>1</td>\n",
       "    </tr>\n",
       "  </tbody>\n",
       "</table>\n",
       "</div>\n",
       "      <button class=\"colab-df-convert\" onclick=\"convertToInteractive('df-ece33678-ed78-4887-9068-5548c8e92b59')\"\n",
       "              title=\"Convert this dataframe to an interactive table.\"\n",
       "              style=\"display:none;\">\n",
       "        \n",
       "  <svg xmlns=\"http://www.w3.org/2000/svg\" height=\"24px\"viewBox=\"0 0 24 24\"\n",
       "       width=\"24px\">\n",
       "    <path d=\"M0 0h24v24H0V0z\" fill=\"none\"/>\n",
       "    <path d=\"M18.56 5.44l.94 2.06.94-2.06 2.06-.94-2.06-.94-.94-2.06-.94 2.06-2.06.94zm-11 1L8.5 8.5l.94-2.06 2.06-.94-2.06-.94L8.5 2.5l-.94 2.06-2.06.94zm10 10l.94 2.06.94-2.06 2.06-.94-2.06-.94-.94-2.06-.94 2.06-2.06.94z\"/><path d=\"M17.41 7.96l-1.37-1.37c-.4-.4-.92-.59-1.43-.59-.52 0-1.04.2-1.43.59L10.3 9.45l-7.72 7.72c-.78.78-.78 2.05 0 2.83L4 21.41c.39.39.9.59 1.41.59.51 0 1.02-.2 1.41-.59l7.78-7.78 2.81-2.81c.8-.78.8-2.07 0-2.86zM5.41 20L4 18.59l7.72-7.72 1.47 1.35L5.41 20z\"/>\n",
       "  </svg>\n",
       "      </button>\n",
       "      \n",
       "  <style>\n",
       "    .colab-df-container {\n",
       "      display:flex;\n",
       "      flex-wrap:wrap;\n",
       "      gap: 12px;\n",
       "    }\n",
       "\n",
       "    .colab-df-convert {\n",
       "      background-color: #E8F0FE;\n",
       "      border: none;\n",
       "      border-radius: 50%;\n",
       "      cursor: pointer;\n",
       "      display: none;\n",
       "      fill: #1967D2;\n",
       "      height: 32px;\n",
       "      padding: 0 0 0 0;\n",
       "      width: 32px;\n",
       "    }\n",
       "\n",
       "    .colab-df-convert:hover {\n",
       "      background-color: #E2EBFA;\n",
       "      box-shadow: 0px 1px 2px rgba(60, 64, 67, 0.3), 0px 1px 3px 1px rgba(60, 64, 67, 0.15);\n",
       "      fill: #174EA6;\n",
       "    }\n",
       "\n",
       "    [theme=dark] .colab-df-convert {\n",
       "      background-color: #3B4455;\n",
       "      fill: #D2E3FC;\n",
       "    }\n",
       "\n",
       "    [theme=dark] .colab-df-convert:hover {\n",
       "      background-color: #434B5C;\n",
       "      box-shadow: 0px 1px 3px 1px rgba(0, 0, 0, 0.15);\n",
       "      filter: drop-shadow(0px 1px 2px rgba(0, 0, 0, 0.3));\n",
       "      fill: #FFFFFF;\n",
       "    }\n",
       "  </style>\n",
       "\n",
       "      <script>\n",
       "        const buttonEl =\n",
       "          document.querySelector('#df-ece33678-ed78-4887-9068-5548c8e92b59 button.colab-df-convert');\n",
       "        buttonEl.style.display =\n",
       "          google.colab.kernel.accessAllowed ? 'block' : 'none';\n",
       "\n",
       "        async function convertToInteractive(key) {\n",
       "          const element = document.querySelector('#df-ece33678-ed78-4887-9068-5548c8e92b59');\n",
       "          const dataTable =\n",
       "            await google.colab.kernel.invokeFunction('convertToInteractive',\n",
       "                                                     [key], {});\n",
       "          if (!dataTable) return;\n",
       "\n",
       "          const docLinkHtml = 'Like what you see? Visit the ' +\n",
       "            '<a target=\"_blank\" href=https://colab.research.google.com/notebooks/data_table.ipynb>data table notebook</a>'\n",
       "            + ' to learn more about interactive tables.';\n",
       "          element.innerHTML = '';\n",
       "          dataTable['output_type'] = 'display_data';\n",
       "          await google.colab.output.renderOutput(dataTable, element);\n",
       "          const docLink = document.createElement('div');\n",
       "          docLink.innerHTML = docLinkHtml;\n",
       "          element.appendChild(docLink);\n",
       "        }\n",
       "      </script>\n",
       "    </div>\n",
       "  </div>\n",
       "  "
      ]
     },
     "metadata": {},
     "execution_count": 118
    }
   ]
  },
  {
   "cell_type": "markdown",
   "source": [
    "## Data Preprocessing"
   ],
   "metadata": {
    "id": "3UuS2Ym1e6D3"
   }
  },
  {
   "cell_type": "markdown",
   "source": [
    "### Splitting the dataset into the Training set and Test set"
   ],
   "metadata": {
    "id": "gCt3p0vwe-lJ"
   }
  },
  {
   "cell_type": "markdown",
   "source": [
    "We will split the data into features and labeling (X,y)"
   ],
   "metadata": {
    "id": "u-s6pMvMeV8t"
   }
  },
  {
   "cell_type": "code",
   "metadata": {
    "id": "Y2EfWdzMe1ml"
   },
   "source": [
    "X = diabetes.iloc[:, 0:8].values\n",
    "y = diabetes.iloc[:,8].values"
   ],
   "execution_count": 145,
   "outputs": []
  },
  {
   "cell_type": "markdown",
   "source": [
    "Scaling"
   ],
   "metadata": {
    "id": "_8ZIUm_g9jyE"
   }
  },
  {
   "cell_type": "code",
   "source": [
    "scaler = MinMaxScaler()\n",
    "X = scaler.fit_transform(X)"
   ],
   "metadata": {
    "id": "TfZP_dZY9lUd"
   },
   "execution_count": 146,
   "outputs": []
  },
  {
   "cell_type": "markdown",
   "source": [
    "We will separate the training set from the test set"
   ],
   "metadata": {
    "id": "7UDXIgLPfJ2w"
   }
  },
  {
   "cell_type": "code",
   "metadata": {
    "id": "zXAfgiLCfFLM"
   },
   "source": [
    "X_train, X_test, y_train, y_test = train_test_split(X, y, test_size = 0.25)"
   ],
   "execution_count": 240,
   "outputs": []
  },
  {
   "cell_type": "markdown",
   "metadata": {
    "id": "72uvlxJrOuWd"
   },
   "source": [
    "### Data transformation\n"
   ]
  },
  {
   "cell_type": "markdown",
   "source": [
    "When we use Pytorch we will have to work with a different type of data structure and not a Numpy array"
   ],
   "metadata": {
    "id": "HOWzORT7fbT5"
   }
  },
  {
   "cell_type": "code",
   "metadata": {
    "id": "4CDhI9lYfoSp",
    "colab": {
     "base_uri": "https://localhost:8080/"
    },
    "outputId": "104189af-9b64-4ba1-fffb-832be585f166"
   },
   "source": [
    "type(X_train)"
   ],
   "execution_count": 241,
   "outputs": [
    {
     "output_type": "execute_result",
     "data": {
      "text/plain": [
       "numpy.ndarray"
      ]
     },
     "metadata": {},
     "execution_count": 241
    }
   ]
  },
  {
   "cell_type": "markdown",
   "source": [
    "Therefore, we will convert the data structure type to PyTorch Tensor"
   ],
   "metadata": {
    "id": "RKbyHcKdgh5N"
   }
  },
  {
   "cell_type": "code",
   "metadata": {
    "id": "j50JzYbvfxOB"
   },
   "source": [
    "X_train = torch.tensor(X_train, dtype=torch.float)\n",
    "y_train = torch.tensor(y_train, dtype=torch.float)"
   ],
   "execution_count": 242,
   "outputs": []
  },
  {
   "cell_type": "code",
   "metadata": {
    "id": "tZpLPL9ZhGVv",
    "colab": {
     "base_uri": "https://localhost:8080/"
    },
    "outputId": "d25fb719-a5be-4f43-f9ec-572f52c88b77"
   },
   "source": [
    "type(X_train)"
   ],
   "execution_count": 243,
   "outputs": [
    {
     "output_type": "execute_result",
     "data": {
      "text/plain": [
       "torch.Tensor"
      ]
     },
     "metadata": {},
     "execution_count": 243
    }
   ]
  },
  {
   "cell_type": "markdown",
   "source": [
    "Now we will use Tensor Dataset to connect the features and labeling and create a complete dataset. And now we can work with this data in PyTorch neural networks."
   ],
   "metadata": {
    "id": "UAEd025Jhk7G"
   }
  },
  {
   "cell_type": "code",
   "metadata": {
    "id": "Y6Yio0lMhJHC"
   },
   "source": [
    "dataset = torch.utils.data.TensorDataset(X_train, y_train)"
   ],
   "execution_count": 244,
   "outputs": []
  },
  {
   "cell_type": "code",
   "metadata": {
    "id": "XbHuCVOLhS5u",
    "colab": {
     "base_uri": "https://localhost:8080/"
    },
    "outputId": "c364a99c-e7d0-4ddb-bad7-072fae3fe562"
   },
   "source": [
    "type(dataset)"
   ],
   "execution_count": 245,
   "outputs": [
    {
     "output_type": "execute_result",
     "data": {
      "text/plain": [
       "torch.utils.data.dataset.TensorDataset"
      ]
     },
     "metadata": {},
     "execution_count": 245
    }
   ]
  },
  {
   "cell_type": "markdown",
   "source": [
    "Now we will use Data loader. It will combines a dataset and a sampler, and provides an iterable over the given dataset (also divides the data into batches(."
   ],
   "metadata": {
    "id": "6Qyvpczlh9Dy"
   }
  },
  {
   "cell_type": "code",
   "metadata": {
    "id": "YEN5jCO-hZyT"
   },
   "source": [
    "train_loader = torch.utils.data.DataLoader(dataset, batch_size=8)"
   ],
   "execution_count": 246,
   "outputs": []
  },
  {
   "cell_type": "markdown",
   "metadata": {
    "id": "QGDLesyDQpIb"
   },
   "source": [
    "## Neural network structure\n",
    "8 -> 64 -> 32 -> 16 -> 1"
   ]
  },
  {
   "cell_type": "code",
   "metadata": {
    "id": "G8a5pCYviAHQ"
   },
   "source": [
    "network = nn.Sequential(nn.Linear(8, 64),\n",
    "                          nn.ReLU(),\n",
    "                          nn.Linear(64, 32),\n",
    "                          nn.ReLU(),\n",
    "                          nn.Linear(32, 16),\n",
    "                          nn.ReLU(),\n",
    "                          nn.Linear(16, 1),\n",
    "                          nn.Sigmoid())"
   ],
   "execution_count": 264,
   "outputs": []
  },
  {
   "cell_type": "markdown",
   "source": [
    "Network summary"
   ],
   "metadata": {
    "id": "GkQCJOzEid_t"
   }
  },
  {
   "cell_type": "code",
   "metadata": {
    "id": "Z3KO31Cbjrxb",
    "colab": {
     "base_uri": "https://localhost:8080/"
    },
    "outputId": "7400d6ca-27a3-4ee9-f527-fc51a1fa4647"
   },
   "source": [
    "network.parameters"
   ],
   "execution_count": 265,
   "outputs": [
    {
     "output_type": "execute_result",
     "data": {
      "text/plain": [
       "<bound method Module.parameters of Sequential(\n",
       "  (0): Linear(in_features=8, out_features=64, bias=True)\n",
       "  (1): ReLU()\n",
       "  (2): Linear(in_features=64, out_features=32, bias=True)\n",
       "  (3): ReLU()\n",
       "  (4): Linear(in_features=32, out_features=16, bias=True)\n",
       "  (5): ReLU()\n",
       "  (6): Linear(in_features=16, out_features=1, bias=True)\n",
       "  (7): Sigmoid()\n",
       ")>"
      ]
     },
     "metadata": {},
     "execution_count": 265
    }
   ]
  },
  {
   "cell_type": "markdown",
   "source": [
    "Now we will create a Loss function (binary cross entropy) and optimizer"
   ],
   "metadata": {
    "id": "19M7GqJ4ikpm"
   }
  },
  {
   "cell_type": "code",
   "metadata": {
    "id": "Zi67gpD2jw2d"
   },
   "source": [
    "loss_function = nn.BCELoss()"
   ],
   "execution_count": 266,
   "outputs": []
  },
  {
   "cell_type": "code",
   "metadata": {
    "id": "c5DwvzzpkCIS"
   },
   "source": [
    "optimizer = torch.optim.Adam(network.parameters(), lr = 0.001)"
   ],
   "execution_count": 267,
   "outputs": []
  },
  {
   "cell_type": "markdown",
   "source": [
    "## Training the neural network on the Training se"
   ],
   "metadata": {
    "id": "FIBpPg7ujBjj"
   }
  },
  {
   "cell_type": "code",
   "source": [
    "epochs = 300\n",
    "avg_loss = 0\n",
    "loss_list, epochs_list = [], []"
   ],
   "metadata": {
    "id": "NJHIENQapcNt"
   },
   "execution_count": 268,
   "outputs": []
  },
  {
   "cell_type": "code",
   "metadata": {
    "id": "Yn2TbtzfkP19",
    "colab": {
     "base_uri": "https://localhost:8080/"
    },
    "outputId": "470b3898-85be-4446-c7e4-88e94219a5dc"
   },
   "source": [
    "for epoch in range(epochs):\n",
    "  running_loss = 0.\n",
    "\n",
    "  for data in train_loader:\n",
    "    batch_features, batch_labels = data\n",
    "    optimizer.zero_grad()\n",
    "\n",
    "    predictions = network.forward(batch_features) \n",
    "    loss = loss_function(predictions, batch_labels)\n",
    "    loss.backward()\n",
    "    optimizer.step()\n",
    "\n",
    "    running_loss += loss.item()\n",
    "  if running_loss != 0:\n",
    "    avg_loss = running_loss / len(train_loader)\n",
    "\n",
    "  loss_list.append(avg_loss)\n",
    "  epochs_list.append(epoch)\n",
    "\n",
    "  print('Epoch: ' + str(epoch + 1) + ' loss: ' + str(avg_loss))"
   ],
   "execution_count": 269,
   "outputs": [
    {
     "output_type": "stream",
     "name": "stderr",
     "text": [
      "/usr/local/lib/python3.8/dist-packages/torch/nn/modules/loss.py:516: UserWarning: Using a target size (torch.Size([8])) that is different to the input size (torch.Size([8, 1])) is deprecated. Please ensure they have the same size.\n",
      "  return F.binary_cross_entropy(input, target, weight=self.weight, reduction=self.reduction)\n"
     ]
    },
    {
     "output_type": "stream",
     "name": "stdout",
     "text": [
      "Epoch: 1 loss: 0.6685774309767617\n",
      "Epoch: 2 loss: 0.6436803208457099\n",
      "Epoch: 3 loss: 0.6242883462044928\n",
      "Epoch: 4 loss: 0.5961539480421278\n",
      "Epoch: 5 loss: 0.5654359083208773\n",
      "Epoch: 6 loss: 0.5424463405377336\n",
      "Epoch: 7 loss: 0.5257787886593077\n",
      "Epoch: 8 loss: 0.5116611866073476\n",
      "Epoch: 9 loss: 0.5005007820824782\n",
      "Epoch: 10 loss: 0.4915154702547524\n",
      "Epoch: 11 loss: 0.48456866128577125\n",
      "Epoch: 12 loss: 0.47835156611270374\n",
      "Epoch: 13 loss: 0.4732983559370041\n",
      "Epoch: 14 loss: 0.4694451956699292\n",
      "Epoch: 15 loss: 0.46661672968831325\n",
      "Epoch: 16 loss: 0.46423209665550125\n",
      "Epoch: 17 loss: 0.46180924338599044\n",
      "Epoch: 18 loss: 0.46024147793650627\n",
      "Epoch: 19 loss: 0.4582596001111799\n",
      "Epoch: 20 loss: 0.4565588237924708\n",
      "Epoch: 21 loss: 0.4553318079560995\n",
      "Epoch: 22 loss: 0.4536777697503567\n",
      "Epoch: 23 loss: 0.45268161884612507\n",
      "Epoch: 24 loss: 0.45148780703958535\n",
      "Epoch: 25 loss: 0.45048909230778617\n",
      "Epoch: 26 loss: 0.4496807673325141\n",
      "Epoch: 27 loss: 0.4485181120948659\n",
      "Epoch: 28 loss: 0.447780917916033\n",
      "Epoch: 29 loss: 0.44681172383328277\n",
      "Epoch: 30 loss: 0.44596141380154425\n",
      "Epoch: 31 loss: 0.44509064178499913\n",
      "Epoch: 32 loss: 0.4444434243357844\n",
      "Epoch: 33 loss: 0.4435081733390689\n",
      "Epoch: 34 loss: 0.4429367763093776\n",
      "Epoch: 35 loss: 0.44144519252909553\n",
      "Epoch: 36 loss: 0.44106611981987953\n",
      "Epoch: 37 loss: 0.44054582125196856\n",
      "Epoch: 38 loss: 0.4397161594695515\n",
      "Epoch: 39 loss: 0.4386148142317931\n",
      "Epoch: 40 loss: 0.43789242963410085\n",
      "Epoch: 41 loss: 0.437472361450394\n",
      "Epoch: 42 loss: 0.43654758928136694\n",
      "Epoch: 43 loss: 0.435865994853278\n",
      "Epoch: 44 loss: 0.4352948408987787\n",
      "Epoch: 45 loss: 0.4347374464074771\n",
      "Epoch: 46 loss: 0.43402380568699706\n",
      "Epoch: 47 loss: 0.4333286875238021\n",
      "Epoch: 48 loss: 0.43322528878019917\n",
      "Epoch: 49 loss: 0.43253174517303705\n",
      "Epoch: 50 loss: 0.4316286809949411\n",
      "Epoch: 51 loss: 0.4306514040670461\n",
      "Epoch: 52 loss: 0.43026774987164473\n",
      "Epoch: 53 loss: 0.42959948991321856\n",
      "Epoch: 54 loss: 0.42920760230885613\n",
      "Epoch: 55 loss: 0.42832402802175945\n",
      "Epoch: 56 loss: 0.4279374923143122\n",
      "Epoch: 57 loss: 0.4270622957911756\n",
      "Epoch: 58 loss: 0.4269582626099388\n",
      "Epoch: 59 loss: 0.4263294903147552\n",
      "Epoch: 60 loss: 0.4256063215434551\n",
      "Epoch: 61 loss: 0.42508354493313366\n",
      "Epoch: 62 loss: 0.42456943748725784\n",
      "Epoch: 63 loss: 0.4243458584985799\n",
      "Epoch: 64 loss: 0.4235894743146168\n",
      "Epoch: 65 loss: 0.42331215066628325\n",
      "Epoch: 66 loss: 0.42237126485755044\n",
      "Epoch: 67 loss: 0.42185261390275425\n",
      "Epoch: 68 loss: 0.4212904169948565\n",
      "Epoch: 69 loss: 0.42075301406698096\n",
      "Epoch: 70 loss: 0.42025010246369576\n",
      "Epoch: 71 loss: 0.41931734461751247\n",
      "Epoch: 72 loss: 0.4190374348933498\n",
      "Epoch: 73 loss: 0.41856726227949065\n",
      "Epoch: 74 loss: 0.41810894074539345\n",
      "Epoch: 75 loss: 0.4175007397101985\n",
      "Epoch: 76 loss: 0.4164706880433692\n",
      "Epoch: 77 loss: 0.4163765762415197\n",
      "Epoch: 78 loss: 0.41577456291351056\n",
      "Epoch: 79 loss: 0.4150525505344073\n",
      "Epoch: 80 loss: 0.4145296709612012\n",
      "Epoch: 81 loss: 0.41406578436079955\n",
      "Epoch: 82 loss: 0.41356376744806767\n",
      "Epoch: 83 loss: 0.41321480543249184\n",
      "Epoch: 84 loss: 0.4125509513542056\n",
      "Epoch: 85 loss: 0.4122872569908698\n",
      "Epoch: 86 loss: 0.4115166092912356\n",
      "Epoch: 87 loss: 0.4111840668030911\n",
      "Epoch: 88 loss: 0.4106478344442116\n",
      "Epoch: 89 loss: 0.4101253011160427\n",
      "Epoch: 90 loss: 0.40958850199563634\n",
      "Epoch: 91 loss: 0.4090699930157926\n",
      "Epoch: 92 loss: 0.408700618478987\n",
      "Epoch: 93 loss: 0.4079577591684129\n",
      "Epoch: 94 loss: 0.4074401041078899\n",
      "Epoch: 95 loss: 0.40696654023809564\n",
      "Epoch: 96 loss: 0.40668463251656956\n",
      "Epoch: 97 loss: 0.4062348618689511\n",
      "Epoch: 98 loss: 0.40577386329985327\n",
      "Epoch: 99 loss: 0.4053163043119841\n",
      "Epoch: 100 loss: 0.4047602438885305\n",
      "Epoch: 101 loss: 0.40416479679859346\n",
      "Epoch: 102 loss: 0.4039114785070221\n",
      "Epoch: 103 loss: 0.4034313368093636\n",
      "Epoch: 104 loss: 0.40285175997349953\n",
      "Epoch: 105 loss: 0.4023274961445067\n",
      "Epoch: 106 loss: 0.4022840852331784\n",
      "Epoch: 107 loss: 0.4018258515538441\n",
      "Epoch: 108 loss: 0.40113544195062584\n",
      "Epoch: 109 loss: 0.40007588681247497\n",
      "Epoch: 110 loss: 0.3998568893099825\n",
      "Epoch: 111 loss: 0.3993830073417889\n",
      "Epoch: 112 loss: 0.39870201082279283\n",
      "Epoch: 113 loss: 0.3980037934250302\n",
      "Epoch: 114 loss: 0.39773619299133617\n",
      "Epoch: 115 loss: 0.39715843306233484\n",
      "Epoch: 116 loss: 0.39666145232816535\n",
      "Epoch: 117 loss: 0.39612819585535264\n",
      "Epoch: 118 loss: 0.3956089893149005\n",
      "Epoch: 119 loss: 0.3952055031226741\n",
      "Epoch: 120 loss: 0.3945783284596271\n",
      "Epoch: 121 loss: 0.39446909942974645\n",
      "Epoch: 122 loss: 0.39419741628484595\n",
      "Epoch: 123 loss: 0.3937274559090535\n",
      "Epoch: 124 loss: 0.3931323081875841\n",
      "Epoch: 125 loss: 0.3923658070464929\n",
      "Epoch: 126 loss: 0.3921606092610293\n",
      "Epoch: 127 loss: 0.39175745296395487\n",
      "Epoch: 128 loss: 0.3910324589038889\n",
      "Epoch: 129 loss: 0.3908544818146361\n",
      "Epoch: 130 loss: 0.3898694851539201\n",
      "Epoch: 131 loss: 0.389856875460181\n",
      "Epoch: 132 loss: 0.38906235796295935\n",
      "Epoch: 133 loss: 0.38867672801845604\n",
      "Epoch: 134 loss: 0.3895517626984252\n",
      "Epoch: 135 loss: 0.388388610444963\n",
      "Epoch: 136 loss: 0.3875120533630252\n",
      "Epoch: 137 loss: 0.38655143996907604\n",
      "Epoch: 138 loss: 0.3860696256160736\n",
      "Epoch: 139 loss: 0.38560383746193516\n",
      "Epoch: 140 loss: 0.38516123427285087\n",
      "Epoch: 141 loss: 0.384678082437151\n",
      "Epoch: 142 loss: 0.3847615656753381\n",
      "Epoch: 143 loss: 0.384006405249238\n",
      "Epoch: 144 loss: 0.3832383465228809\n",
      "Epoch: 145 loss: 0.3826257677541839\n",
      "Epoch: 146 loss: 0.38230891349828905\n",
      "Epoch: 147 loss: 0.3809117306437757\n",
      "Epoch: 148 loss: 0.3809649245813489\n",
      "Epoch: 149 loss: 0.38083320255908704\n",
      "Epoch: 150 loss: 0.3802439843614896\n",
      "Epoch: 151 loss: 0.37922997193204033\n",
      "Epoch: 152 loss: 0.37858517933636904\n",
      "Epoch: 153 loss: 0.37870625427199733\n",
      "Epoch: 154 loss: 0.37841884253753555\n",
      "Epoch: 155 loss: 0.3781165143267976\n",
      "Epoch: 156 loss: 0.3769424640470081\n",
      "Epoch: 157 loss: 0.37600347958505154\n",
      "Epoch: 158 loss: 0.37491080578830505\n",
      "Epoch: 159 loss: 0.37541212803787655\n",
      "Epoch: 160 loss: 0.37536141659236616\n",
      "Epoch: 161 loss: 0.37461730734341675\n",
      "Epoch: 162 loss: 0.373833615746763\n",
      "Epoch: 163 loss: 0.37252399625463617\n",
      "Epoch: 164 loss: 0.372661086006297\n",
      "Epoch: 165 loss: 0.37107092286977506\n",
      "Epoch: 166 loss: 0.37124072139461833\n",
      "Epoch: 167 loss: 0.37013009821789133\n",
      "Epoch: 168 loss: 0.36997719667851925\n",
      "Epoch: 169 loss: 0.37047391126139295\n",
      "Epoch: 170 loss: 0.3694263718401392\n",
      "Epoch: 171 loss: 0.36848002713587547\n",
      "Epoch: 172 loss: 0.3683711811900139\n",
      "Epoch: 173 loss: 0.3677611697672142\n",
      "Epoch: 174 loss: 0.36650984392811853\n",
      "Epoch: 175 loss: 0.36704300561298925\n",
      "Epoch: 176 loss: 0.36546128967569935\n",
      "Epoch: 177 loss: 0.36529960452268523\n",
      "Epoch: 178 loss: 0.36412963012440336\n",
      "Epoch: 179 loss: 0.3636733204540279\n",
      "Epoch: 180 loss: 0.3633559126820829\n",
      "Epoch: 181 loss: 0.36279369466420675\n",
      "Epoch: 182 loss: 0.36126231940256226\n",
      "Epoch: 183 loss: 0.3606359336732162\n",
      "Epoch: 184 loss: 0.36001486693405443\n",
      "Epoch: 185 loss: 0.35937017181681263\n",
      "Epoch: 186 loss: 0.3573671215110355\n",
      "Epoch: 187 loss: 0.3571092678854863\n",
      "Epoch: 188 loss: 0.35714934383415514\n",
      "Epoch: 189 loss: 0.3560819519269798\n",
      "Epoch: 190 loss: 0.35637880416793954\n",
      "Epoch: 191 loss: 0.35502194540782106\n",
      "Epoch: 192 loss: 0.3557202805661493\n",
      "Epoch: 193 loss: 0.35309463190949625\n",
      "Epoch: 194 loss: 0.35378842386934495\n",
      "Epoch: 195 loss: 0.35191318744586575\n",
      "Epoch: 196 loss: 0.3500969981153806\n",
      "Epoch: 197 loss: 0.3515855157747865\n",
      "Epoch: 198 loss: 0.34883151431050563\n",
      "Epoch: 199 loss: 0.35018241829756236\n",
      "Epoch: 200 loss: 0.3490232535534435\n",
      "Epoch: 201 loss: 0.3482108437973592\n",
      "Epoch: 202 loss: 0.3487965072401696\n",
      "Epoch: 203 loss: 0.3470647856593132\n",
      "Epoch: 204 loss: 0.34732092006338966\n",
      "Epoch: 205 loss: 0.34586972484572065\n",
      "Epoch: 206 loss: 0.34777684499406153\n",
      "Epoch: 207 loss: 0.34723375354790026\n",
      "Epoch: 208 loss: 0.34434937354591155\n",
      "Epoch: 209 loss: 0.34428397059026694\n",
      "Epoch: 210 loss: 0.3430294089226259\n",
      "Epoch: 211 loss: 0.34187855509420234\n",
      "Epoch: 212 loss: 0.34236222101996344\n",
      "Epoch: 213 loss: 0.3416619190118379\n",
      "Epoch: 214 loss: 0.34037467733853394\n",
      "Epoch: 215 loss: 0.3400277347407407\n",
      "Epoch: 216 loss: 0.3407929778719942\n",
      "Epoch: 217 loss: 0.3375332758554982\n",
      "Epoch: 218 loss: 0.3376421681087878\n",
      "Epoch: 219 loss: 0.33726927772578263\n",
      "Epoch: 220 loss: 0.3371622220923503\n",
      "Epoch: 221 loss: 0.3371627055522468\n",
      "Epoch: 222 loss: 0.3335069064050913\n",
      "Epoch: 223 loss: 0.33347161176304024\n",
      "Epoch: 224 loss: 0.33375777723267674\n",
      "Epoch: 225 loss: 0.3363119111810293\n",
      "Epoch: 226 loss: 0.3353480582849847\n",
      "Epoch: 227 loss: 0.3339891182258725\n",
      "Epoch: 228 loss: 0.3348480727937486\n",
      "Epoch: 229 loss: 0.33437882487972576\n",
      "Epoch: 230 loss: 0.3298112261109054\n",
      "Epoch: 231 loss: 0.3305652410619789\n",
      "Epoch: 232 loss: 0.3327114443398184\n",
      "Epoch: 233 loss: 0.32924285494825906\n",
      "Epoch: 234 loss: 0.3306765287804107\n",
      "Epoch: 235 loss: 0.3294961499567661\n",
      "Epoch: 236 loss: 0.328927275000347\n",
      "Epoch: 237 loss: 0.32847961136657333\n",
      "Epoch: 238 loss: 0.3277251281672054\n",
      "Epoch: 239 loss: 0.3270813905530506\n",
      "Epoch: 240 loss: 0.3280521100904379\n",
      "Epoch: 241 loss: 0.32723433213929337\n",
      "Epoch: 242 loss: 0.327677339522375\n",
      "Epoch: 243 loss: 0.3260695696290996\n",
      "Epoch: 244 loss: 0.3251337373836173\n",
      "Epoch: 245 loss: 0.32377385358429617\n",
      "Epoch: 246 loss: 0.32558869627407855\n",
      "Epoch: 247 loss: 0.326504314214819\n",
      "Epoch: 248 loss: 0.32272334665887886\n",
      "Epoch: 249 loss: 0.3256103981079327\n",
      "Epoch: 250 loss: 0.3241693428200152\n",
      "Epoch: 251 loss: 0.3237192975357175\n",
      "Epoch: 252 loss: 0.3215959155932069\n",
      "Epoch: 253 loss: 0.3214591407837967\n",
      "Epoch: 254 loss: 0.32258938203772736\n",
      "Epoch: 255 loss: 0.32081815225279164\n",
      "Epoch: 256 loss: 0.3208584259264171\n",
      "Epoch: 257 loss: 0.3213059585024085\n",
      "Epoch: 258 loss: 0.3214551563012517\n",
      "Epoch: 259 loss: 0.31814099607678753\n",
      "Epoch: 260 loss: 0.3190258003305644\n",
      "Epoch: 261 loss: 0.31676080222758984\n",
      "Epoch: 262 loss: 0.3141699742991477\n",
      "Epoch: 263 loss: 0.3162509868852794\n",
      "Epoch: 264 loss: 0.318479086091328\n",
      "Epoch: 265 loss: 0.3151878906517393\n",
      "Epoch: 266 loss: 0.3151795199761788\n",
      "Epoch: 267 loss: 0.3142600737563852\n",
      "Epoch: 268 loss: 0.31264319855512845\n",
      "Epoch: 269 loss: 0.3171349881320364\n",
      "Epoch: 270 loss: 0.3130565816277845\n",
      "Epoch: 271 loss: 0.31005133794517153\n",
      "Epoch: 272 loss: 0.31368581021928954\n",
      "Epoch: 273 loss: 0.3141773308420347\n",
      "Epoch: 274 loss: 0.31318129875904155\n",
      "Epoch: 275 loss: 0.30851066999861765\n",
      "Epoch: 276 loss: 0.31060324231576586\n",
      "Epoch: 277 loss: 0.30756154092442656\n",
      "Epoch: 278 loss: 0.309062761383959\n",
      "Epoch: 279 loss: 0.30857432167977095\n",
      "Epoch: 280 loss: 0.306633642460737\n",
      "Epoch: 281 loss: 0.3081518289270914\n",
      "Epoch: 282 loss: 0.3098348232969228\n",
      "Epoch: 283 loss: 0.3039695840173711\n",
      "Epoch: 284 loss: 0.30246597308562034\n",
      "Epoch: 285 loss: 0.310784968534588\n",
      "Epoch: 286 loss: 0.3010164498506735\n",
      "Epoch: 287 loss: 0.30475721867858535\n",
      "Epoch: 288 loss: 0.3026771096823116\n",
      "Epoch: 289 loss: 0.30496553973191315\n",
      "Epoch: 290 loss: 0.3072681695791996\n",
      "Epoch: 291 loss: 0.30325444091835785\n",
      "Epoch: 292 loss: 0.30202192823506063\n",
      "Epoch: 293 loss: 0.29892126382845974\n",
      "Epoch: 294 loss: 0.29751929617486894\n",
      "Epoch: 295 loss: 0.30366858770139515\n",
      "Epoch: 296 loss: 0.30019045173604453\n",
      "Epoch: 297 loss: 0.29675630260155433\n",
      "Epoch: 298 loss: 0.2997006109346532\n",
      "Epoch: 299 loss: 0.29863776434730327\n",
      "Epoch: 300 loss: 0.29310118233681554\n"
     ]
    }
   ]
  },
  {
   "cell_type": "markdown",
   "source": [
    "### Loss Visualization\n"
   ],
   "metadata": {
    "id": "YuYh-0IJoQyx"
   }
  },
  {
   "cell_type": "code",
   "source": [
    "plt.plot(epochs_list,loss_list, label=\"Training Loss\")\n",
    "plt.title('model loss')\n",
    "plt.ylabel('loss')\n",
    "plt.xlabel('epoch')\n",
    "plt.legend()\n",
    "plt.show()"
   ],
   "metadata": {
    "colab": {
     "base_uri": "https://localhost:8080/",
     "height": 295
    },
    "id": "JOQvDY5yoTYx",
    "outputId": "589a1ad6-b92d-4239-bb52-f019856bea46"
   },
   "execution_count": 270,
   "outputs": [
    {
     "output_type": "display_data",
     "data": {
      "text/plain": [
       "<Figure size 432x288 with 1 Axes>"
      ],
      "image/png": "[encoded data removed]"
     },
     "metadata": {
      "needs_background": "light"
     }
    }
   ]
  },
  {
   "cell_type": "markdown",
   "metadata": {
    "id": "AyTjLzELSdQF"
   },
   "source": [
    "## Evaluate"
   ]
  },
  {
   "cell_type": "markdown",
   "source": [
    "We use `eval()` to set network's layers to evaluation mode before running inference.<br>\n",
    "If we wish to resuming training, we can call `network.train()` to set these layers to training mode."
   ],
   "metadata": {
    "id": "7b8Fu4slo4bY"
   }
  },
  {
   "cell_type": "code",
   "metadata": {
    "id": "lznvtd0vmyFu",
    "colab": {
     "base_uri": "https://localhost:8080/"
    },
    "outputId": "693d1a23-507e-4e60-de4d-7928f9398b78"
   },
   "source": [
    "network.eval()"
   ],
   "execution_count": 271,
   "outputs": [
    {
     "output_type": "execute_result",
     "data": {
      "text/plain": [
       "Sequential(\n",
       "  (0): Linear(in_features=8, out_features=64, bias=True)\n",
       "  (1): ReLU()\n",
       "  (2): Linear(in_features=64, out_features=32, bias=True)\n",
       "  (3): ReLU()\n",
       "  (4): Linear(in_features=32, out_features=16, bias=True)\n",
       "  (5): ReLU()\n",
       "  (6): Linear(in_features=16, out_features=1, bias=True)\n",
       "  (7): Sigmoid()\n",
       ")"
      ]
     },
     "metadata": {},
     "execution_count": 271
    }
   ]
  },
  {
   "cell_type": "markdown",
   "source": [
    "Data transformation for the test set"
   ],
   "metadata": {
    "id": "LN4Sz14zqWeg"
   }
  },
  {
   "cell_type": "code",
   "metadata": {
    "id": "jbfwUSOCnAqY",
    "colab": {
     "base_uri": "https://localhost:8080/"
    },
    "outputId": "8f6f6ce7-1ede-4b25-c116-d5b556bc27e5"
   },
   "source": [
    "type(X_test)"
   ],
   "execution_count": 272,
   "outputs": [
    {
     "output_type": "execute_result",
     "data": {
      "text/plain": [
       "torch.Tensor"
      ]
     },
     "metadata": {},
     "execution_count": 272
    }
   ]
  },
  {
   "cell_type": "code",
   "metadata": {
    "id": "4FX-fotsnEsW",
    "colab": {
     "base_uri": "https://localhost:8080/"
    },
    "outputId": "122e8789-a9e3-47ed-e8dc-eb1497754c73"
   },
   "source": [
    "X_test = torch.tensor(X_test, dtype=torch.float)\n",
    "type(X_test)"
   ],
   "execution_count": 273,
   "outputs": [
    {
     "output_type": "stream",
     "name": "stderr",
     "text": [
      "<ipython-input-273-3a1fc5379980>:1: UserWarning: To copy construct from a tensor, it is recommended to use sourceTensor.clone().detach() or sourceTensor.clone().detach().requires_grad_(True), rather than torch.tensor(sourceTensor).\n",
      "  X_test = torch.tensor(X_test, dtype=torch.float)\n"
     ]
    },
    {
     "output_type": "execute_result",
     "data": {
      "text/plain": [
       "torch.Tensor"
      ]
     },
     "metadata": {},
     "execution_count": 273
    }
   ]
  },
  {
   "cell_type": "markdown",
   "source": [
    "### Test model performance"
   ],
   "metadata": {
    "id": "qeL48glzqpGU"
   }
  },
  {
   "cell_type": "markdown",
   "source": [
    "As we can see the model returned us a list with probabilities"
   ],
   "metadata": {
    "id": "pNgTFM1TrBLd"
   }
  },
  {
   "cell_type": "code",
   "metadata": {
    "id": "EEw01uzUnMYs",
    "colab": {
     "base_uri": "https://localhost:8080/"
    },
    "outputId": "fa878f6e-cc61-4d97-a91b-55fafcfffca1"
   },
   "source": [
    "predictions = network.forward(X_test)\n",
    "predictions[:5]"
   ],
   "execution_count": 274,
   "outputs": [
    {
     "output_type": "execute_result",
     "data": {
      "text/plain": [
       "tensor([[2.7093e-01],\n",
       "        [1.1276e-04],\n",
       "        [8.6753e-01],\n",
       "        [3.0410e-02],\n",
       "        [2.7298e-01]], grad_fn=<SliceBackward>)"
      ]
     },
     "metadata": {},
     "execution_count": 274
    }
   ]
  },
  {
   "cell_type": "markdown",
   "source": [
    "We will replace the list of probabilities with a list of booleans. For the sake of this matter, we will use a threshold of 0.5"
   ],
   "metadata": {
    "id": "WiJqATNdrEfJ"
   }
  },
  {
   "cell_type": "code",
   "metadata": {
    "id": "2h1ZtXPnnpiy",
    "colab": {
     "base_uri": "https://localhost:8080/"
    },
    "outputId": "abcae3b0-249f-42c7-f323-bb2b2427ca11"
   },
   "source": [
    "predictions = np.array(predictions > 0.5)\n",
    "predictions[:5]"
   ],
   "execution_count": 275,
   "outputs": [
    {
     "output_type": "execute_result",
     "data": {
      "text/plain": [
       "array([[False],\n",
       "       [False],\n",
       "       [ True],\n",
       "       [False],\n",
       "       [False]])"
      ]
     },
     "metadata": {},
     "execution_count": 275
    }
   ]
  },
  {
   "cell_type": "code",
   "metadata": {
    "id": "CENEXHlIoKni",
    "colab": {
     "base_uri": "https://localhost:8080/"
    },
    "outputId": "e61b3935-b28c-40fa-f6de-a6037e5975cb"
   },
   "source": [
    "y_test[:5]"
   ],
   "execution_count": 276,
   "outputs": [
    {
     "output_type": "execute_result",
     "data": {
      "text/plain": [
       "array([0, 0, 1, 0, 1])"
      ]
     },
     "metadata": {},
     "execution_count": 276
    }
   ]
  },
  {
   "cell_type": "code",
   "metadata": {
    "id": "rfjEpilWoSt8",
    "colab": {
     "base_uri": "https://localhost:8080/"
    },
    "outputId": "a82eb68d-85f2-47ab-a51b-cbd48703f1de"
   },
   "source": [
    "accuracy_score(y_test, predictions)"
   ],
   "execution_count": 277,
   "outputs": [
    {
     "output_type": "execute_result",
     "data": {
      "text/plain": [
       "0.7604166666666666"
      ]
     },
     "metadata": {},
     "execution_count": 277
    }
   ]
  },
  {
   "cell_type": "code",
   "metadata": {
    "id": "9HLl2Iy0oZ_p",
    "colab": {
     "base_uri": "https://localhost:8080/"
    },
    "outputId": "08e1657b-ffdd-4c14-df0e-18bcb54ef756"
   },
   "source": [
    "cm = confusion_matrix(y_test, predictions)\n",
    "cm"
   ],
   "execution_count": 278,
   "outputs": [
    {
     "output_type": "execute_result",
     "data": {
      "text/plain": [
       "array([[103,  15],\n",
       "       [ 31,  43]])"
      ]
     },
     "metadata": {},
     "execution_count": 278
    }
   ]
  },
  {
   "cell_type": "code",
   "metadata": {
    "id": "VMfT3Ll9ofyi",
    "colab": {
     "base_uri": "https://localhost:8080/",
     "height": 283
    },
    "outputId": "fdf2bf2e-698a-4b99-8f6e-39dd55106172"
   },
   "source": [
    "import seaborn as sns\n",
    "sns.heatmap(cm, annot=True)"
   ],
   "execution_count": 279,
   "outputs": [
    {
     "output_type": "execute_result",
     "data": {
      "text/plain": [
       "<matplotlib.axes._subplots.AxesSubplot at 0x7f7955c0b910>"
      ]
     },
     "metadata": {},
     "execution_count": 279
    },
    {
     "output_type": "display_data",
     "data": {
      "text/plain": [
       "<Figure size 432x288 with 2 Axes>"
      ],
      "image/png": "[encoded data removed]"
     },
     "metadata": {
      "needs_background": "light"
     }
    }
   ]
  }
 ]
}
