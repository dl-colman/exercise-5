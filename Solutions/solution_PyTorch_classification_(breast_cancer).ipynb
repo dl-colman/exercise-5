{
  "nbformat": 4,
  "nbformat_minor": 0,
  "metadata": {
    "colab": {
      "provenance": [],
      "toc_visible": true
    },
    "kernelspec": {
      "name": "python3",
      "display_name": "Python 3"
    },
    "accelerator": "GPU"
  },
  "cells": [
    {
      "cell_type": "markdown",
      "metadata": {
        "id": "rD_RSER5Lkb5"
      },
      "source": [
        "# Libraries for Neural Networks - PyTorch\n",
        "\n"
      ]
    },
    {
      "cell_type": "markdown",
      "source": [
        "## Import Libraries"
      ],
      "metadata": {
        "id": "huMTTiZPbBm0"
      }
    },
    {
      "cell_type": "markdown",
      "source": [
        "Installs a specific PyTorch version"
      ],
      "metadata": {
        "id": "DuPCGIuUbZuO"
      }
    },
    {
      "cell_type": "code",
      "source": [
        "%%capture\n",
        "!pip install torch==1.5.0+cu101 torchvision==0.6.0+cu101 -f https://download.pytorch.org/whl/torch_stable.html"
      ],
      "metadata": {
        "id": "BefKIa-GevKD"
      },
      "execution_count": 1,
      "outputs": []
    },
    {
      "cell_type": "code",
      "metadata": {
        "id": "AoOTnVFidwII",
        "colab": {
          "base_uri": "https://localhost:8080/",
          "height": 36
        },
        "outputId": "602e32bd-6db0-4ab6-9c11-24736ec310db"
      },
      "source": [
        "import torch\n",
        "from sklearn.model_selection import train_test_split\n",
        "from sklearn import datasets\n",
        "from matplotlib import pyplot as plt\n",
        "import numpy as np\n",
        "from sklearn.metrics import accuracy_score, confusion_matrix\n",
        "import torch.nn as nn\n",
        "torch.__version__"
      ],
      "execution_count": 44,
      "outputs": [
        {
          "output_type": "execute_result",
          "data": {
            "text/plain": [
              "'1.5.0+cu101'"
            ],
            "application/vnd.google.colaboratory.intrinsic+json": {
              "type": "string"
            }
          },
          "metadata": {},
          "execution_count": 44
        }
      ]
    },
    {
      "cell_type": "markdown",
      "metadata": {
        "id": "5tP2BcEILoLB"
      },
      "source": [
        "## Loading the dataset\n",
        "The data set contains a table with 30 features for 569 subjects"
      ]
    },
    {
      "cell_type": "code",
      "metadata": {
        "id": "7iDc-CB-eGsY",
        "colab": {
          "base_uri": "https://localhost:8080/"
        },
        "outputId": "9364a3a0-bbd1-473e-a304-9042e085ba0d"
      },
      "source": [
        "breast = datasets.load_breast_cancer()\n",
        "breast.data.shape"
      ],
      "execution_count": 3,
      "outputs": [
        {
          "output_type": "execute_result",
          "data": {
            "text/plain": [
              "(569, 30)"
            ]
          },
          "metadata": {},
          "execution_count": 3
        }
      ]
    },
    {
      "cell_type": "markdown",
      "source": [
        "Let's take a look at what the data looks like"
      ],
      "metadata": {
        "id": "Ud9IaRPZca10"
      }
    },
    {
      "cell_type": "code",
      "metadata": {
        "id": "_DIAZpMdeOL-",
        "colab": {
          "base_uri": "https://localhost:8080/"
        },
        "outputId": "8c7a955f-2ac0-44d6-bf6a-0e14e556097b"
      },
      "source": [
        "breast.data"
      ],
      "execution_count": 4,
      "outputs": [
        {
          "output_type": "execute_result",
          "data": {
            "text/plain": [
              "array([[1.799e+01, 1.038e+01, 1.228e+02, ..., 2.654e-01, 4.601e-01,\n",
              "        1.189e-01],\n",
              "       [2.057e+01, 1.777e+01, 1.329e+02, ..., 1.860e-01, 2.750e-01,\n",
              "        8.902e-02],\n",
              "       [1.969e+01, 2.125e+01, 1.300e+02, ..., 2.430e-01, 3.613e-01,\n",
              "        8.758e-02],\n",
              "       ...,\n",
              "       [1.660e+01, 2.808e+01, 1.083e+02, ..., 1.418e-01, 2.218e-01,\n",
              "        7.820e-02],\n",
              "       [2.060e+01, 2.933e+01, 1.401e+02, ..., 2.650e-01, 4.087e-01,\n",
              "        1.240e-01],\n",
              "       [7.760e+00, 2.454e+01, 4.792e+01, ..., 0.000e+00, 2.871e-01,\n",
              "        7.039e-02]])"
            ]
          },
          "metadata": {},
          "execution_count": 4
        }
      ]
    },
    {
      "cell_type": "markdown",
      "source": [
        "This is how the header of the columns (the names of the features) looks like."
      ],
      "metadata": {
        "id": "A-0RVyencpZR"
      }
    },
    {
      "cell_type": "code",
      "metadata": {
        "id": "Paiw-uSgeUsF",
        "colab": {
          "base_uri": "https://localhost:8080/"
        },
        "outputId": "58c617a4-938c-4a7d-e6ec-68752a4e24f2"
      },
      "source": [
        "breast.feature_names"
      ],
      "execution_count": 5,
      "outputs": [
        {
          "output_type": "execute_result",
          "data": {
            "text/plain": [
              "array(['mean radius', 'mean texture', 'mean perimeter', 'mean area',\n",
              "       'mean smoothness', 'mean compactness', 'mean concavity',\n",
              "       'mean concave points', 'mean symmetry', 'mean fractal dimension',\n",
              "       'radius error', 'texture error', 'perimeter error', 'area error',\n",
              "       'smoothness error', 'compactness error', 'concavity error',\n",
              "       'concave points error', 'symmetry error',\n",
              "       'fractal dimension error', 'worst radius', 'worst texture',\n",
              "       'worst perimeter', 'worst area', 'worst smoothness',\n",
              "       'worst compactness', 'worst concavity', 'worst concave points',\n",
              "       'worst symmetry', 'worst fractal dimension'], dtype='<U23')"
            ]
          },
          "metadata": {},
          "execution_count": 5
        }
      ]
    },
    {
      "cell_type": "markdown",
      "source": [
        "And this is how the labeling of the data can be displayed. As you can see the labeling is binary."
      ],
      "metadata": {
        "id": "hwvrodpBc4Ce"
      }
    },
    {
      "cell_type": "code",
      "metadata": {
        "id": "XU7L1plAelpi",
        "colab": {
          "base_uri": "https://localhost:8080/"
        },
        "outputId": "cc35d982-89e7-4360-eaaa-90a203e92a65"
      },
      "source": [
        "breast.target"
      ],
      "execution_count": 6,
      "outputs": [
        {
          "output_type": "execute_result",
          "data": {
            "text/plain": [
              "array([0, 0, 0, 0, 0, 0, 0, 0, 0, 0, 0, 0, 0, 0, 0, 0, 0, 0, 0, 1, 1, 1,\n",
              "       0, 0, 0, 0, 0, 0, 0, 0, 0, 0, 0, 0, 0, 0, 0, 1, 0, 0, 0, 0, 0, 0,\n",
              "       0, 0, 1, 0, 1, 1, 1, 1, 1, 0, 0, 1, 0, 0, 1, 1, 1, 1, 0, 1, 0, 0,\n",
              "       1, 1, 1, 1, 0, 1, 0, 0, 1, 0, 1, 0, 0, 1, 1, 1, 0, 0, 1, 0, 0, 0,\n",
              "       1, 1, 1, 0, 1, 1, 0, 0, 1, 1, 1, 0, 0, 1, 1, 1, 1, 0, 1, 1, 0, 1,\n",
              "       1, 1, 1, 1, 1, 1, 1, 0, 0, 0, 1, 0, 0, 1, 1, 1, 0, 0, 1, 0, 1, 0,\n",
              "       0, 1, 0, 0, 1, 1, 0, 1, 1, 0, 1, 1, 1, 1, 0, 1, 1, 1, 1, 1, 1, 1,\n",
              "       1, 1, 0, 1, 1, 1, 1, 0, 0, 1, 0, 1, 1, 0, 0, 1, 1, 0, 0, 1, 1, 1,\n",
              "       1, 0, 1, 1, 0, 0, 0, 1, 0, 1, 0, 1, 1, 1, 0, 1, 1, 0, 0, 1, 0, 0,\n",
              "       0, 0, 1, 0, 0, 0, 1, 0, 1, 0, 1, 1, 0, 1, 0, 0, 0, 0, 1, 1, 0, 0,\n",
              "       1, 1, 1, 0, 1, 1, 1, 1, 1, 0, 0, 1, 1, 0, 1, 1, 0, 0, 1, 0, 1, 1,\n",
              "       1, 1, 0, 1, 1, 1, 1, 1, 0, 1, 0, 0, 0, 0, 0, 0, 0, 0, 0, 0, 0, 0,\n",
              "       0, 0, 1, 1, 1, 1, 1, 1, 0, 1, 0, 1, 1, 0, 1, 1, 0, 1, 0, 0, 1, 1,\n",
              "       1, 1, 1, 1, 1, 1, 1, 1, 1, 1, 1, 0, 1, 1, 0, 1, 0, 1, 1, 1, 1, 1,\n",
              "       1, 1, 1, 1, 1, 1, 1, 1, 1, 0, 1, 1, 1, 0, 1, 0, 1, 1, 1, 1, 0, 0,\n",
              "       0, 1, 1, 1, 1, 0, 1, 0, 1, 0, 1, 1, 1, 0, 1, 1, 1, 1, 1, 1, 1, 0,\n",
              "       0, 0, 1, 1, 1, 1, 1, 1, 1, 1, 1, 1, 1, 0, 0, 1, 0, 0, 0, 1, 0, 0,\n",
              "       1, 1, 1, 1, 1, 0, 1, 1, 1, 1, 1, 0, 1, 1, 1, 0, 1, 1, 0, 0, 1, 1,\n",
              "       1, 1, 1, 1, 0, 1, 1, 1, 1, 1, 1, 1, 0, 1, 1, 1, 1, 1, 0, 1, 1, 0,\n",
              "       1, 1, 1, 1, 1, 1, 1, 1, 1, 1, 1, 1, 0, 1, 0, 0, 1, 0, 1, 1, 1, 1,\n",
              "       1, 0, 1, 1, 0, 1, 0, 1, 1, 0, 1, 0, 1, 1, 1, 1, 1, 1, 1, 1, 0, 0,\n",
              "       1, 1, 1, 1, 1, 1, 0, 1, 1, 1, 1, 1, 1, 1, 1, 1, 1, 0, 1, 1, 1, 1,\n",
              "       1, 1, 1, 0, 1, 0, 1, 1, 0, 1, 1, 1, 1, 1, 0, 0, 1, 0, 1, 0, 1, 1,\n",
              "       1, 1, 1, 0, 1, 1, 0, 1, 0, 1, 0, 0, 1, 1, 1, 0, 1, 1, 1, 1, 1, 1,\n",
              "       1, 1, 1, 1, 1, 0, 1, 0, 0, 1, 1, 1, 1, 1, 1, 1, 1, 1, 1, 1, 1, 1,\n",
              "       1, 1, 1, 1, 1, 1, 1, 1, 1, 1, 1, 1, 0, 0, 0, 0, 0, 0, 1])"
            ]
          },
          "metadata": {},
          "execution_count": 6
        }
      ]
    },
    {
      "cell_type": "markdown",
      "source": [
        "According to the labeling: 0 - malignant (גידול ממאיר) and 1 - benign (גידול שפיר)."
      ],
      "metadata": {
        "id": "y8FJBazqeHMK"
      }
    },
    {
      "cell_type": "code",
      "metadata": {
        "id": "CSirq1ogexpf",
        "colab": {
          "base_uri": "https://localhost:8080/"
        },
        "outputId": "63f41757-7d1c-407d-ca5f-7b5e56baa789"
      },
      "source": [
        "breast.target_names"
      ],
      "execution_count": 7,
      "outputs": [
        {
          "output_type": "execute_result",
          "data": {
            "text/plain": [
              "array(['malignant', 'benign'], dtype='<U9')"
            ]
          },
          "metadata": {},
          "execution_count": 7
        }
      ]
    },
    {
      "cell_type": "markdown",
      "source": [
        "## Data Preprocessing"
      ],
      "metadata": {
        "id": "3UuS2Ym1e6D3"
      }
    },
    {
      "cell_type": "markdown",
      "source": [],
      "metadata": {
        "id": "_Qe8N8TtfFRe"
      }
    },
    {
      "cell_type": "markdown",
      "source": [
        "### Splitting the dataset into the Training set and Test set"
      ],
      "metadata": {
        "id": "gCt3p0vwe-lJ"
      }
    },
    {
      "cell_type": "markdown",
      "source": [
        "We will split the data into features and labeling (X,y)"
      ],
      "metadata": {
        "id": "u-s6pMvMeV8t"
      }
    },
    {
      "cell_type": "code",
      "metadata": {
        "id": "Y2EfWdzMe1ml"
      },
      "source": [
        "X = breast.data\n",
        "y = breast.target"
      ],
      "execution_count": 28,
      "outputs": []
    },
    {
      "cell_type": "markdown",
      "source": [
        "We will separate the training set from the test set"
      ],
      "metadata": {
        "id": "7UDXIgLPfJ2w"
      }
    },
    {
      "cell_type": "code",
      "metadata": {
        "id": "zXAfgiLCfFLM"
      },
      "source": [
        "X_train, X_test, y_train, y_test = train_test_split(X, y, test_size = 0.25)"
      ],
      "execution_count": 29,
      "outputs": []
    },
    {
      "cell_type": "code",
      "metadata": {
        "id": "D_QBGhf8fa5W",
        "colab": {
          "base_uri": "https://localhost:8080/"
        },
        "outputId": "5739a6d0-fe13-4dda-b13e-308207e5d0a7"
      },
      "source": [
        "X_train.shape"
      ],
      "execution_count": 30,
      "outputs": [
        {
          "output_type": "execute_result",
          "data": {
            "text/plain": [
              "(426, 30)"
            ]
          },
          "metadata": {},
          "execution_count": 30
        }
      ]
    },
    {
      "cell_type": "code",
      "metadata": {
        "id": "28tDG-Dwfg3C",
        "colab": {
          "base_uri": "https://localhost:8080/"
        },
        "outputId": "6266aafb-6f17-405b-bb63-3b0513cdff4f"
      },
      "source": [
        "X_test.shape"
      ],
      "execution_count": 31,
      "outputs": [
        {
          "output_type": "execute_result",
          "data": {
            "text/plain": [
              "(143, 30)"
            ]
          },
          "metadata": {},
          "execution_count": 31
        }
      ]
    },
    {
      "cell_type": "markdown",
      "metadata": {
        "id": "72uvlxJrOuWd"
      },
      "source": [
        "### Data transformation\n"
      ]
    },
    {
      "cell_type": "markdown",
      "source": [
        "When we use Pytorch we will have to work with a different type of data structure and not a Numpy array"
      ],
      "metadata": {
        "id": "HOWzORT7fbT5"
      }
    },
    {
      "cell_type": "code",
      "metadata": {
        "id": "4CDhI9lYfoSp",
        "colab": {
          "base_uri": "https://localhost:8080/"
        },
        "outputId": "526d5830-b063-4d5f-ce6b-87a8d4b5865d"
      },
      "source": [
        "type(X_train)"
      ],
      "execution_count": 32,
      "outputs": [
        {
          "output_type": "execute_result",
          "data": {
            "text/plain": [
              "numpy.ndarray"
            ]
          },
          "metadata": {},
          "execution_count": 32
        }
      ]
    },
    {
      "cell_type": "markdown",
      "source": [
        "Therefore, we will convert the data structure type to PyTorch Tensor"
      ],
      "metadata": {
        "id": "RKbyHcKdgh5N"
      }
    },
    {
      "cell_type": "code",
      "metadata": {
        "id": "j50JzYbvfxOB"
      },
      "source": [
        "X_train = torch.tensor(X_train, dtype=torch.float)\n",
        "y_train = torch.tensor(y_train, dtype=torch.float)"
      ],
      "execution_count": 33,
      "outputs": []
    },
    {
      "cell_type": "code",
      "metadata": {
        "id": "tZpLPL9ZhGVv",
        "colab": {
          "base_uri": "https://localhost:8080/"
        },
        "outputId": "64f097a3-c6a9-4c5b-a797-2679271991d6"
      },
      "source": [
        "type(X_train)"
      ],
      "execution_count": 34,
      "outputs": [
        {
          "output_type": "execute_result",
          "data": {
            "text/plain": [
              "torch.Tensor"
            ]
          },
          "metadata": {},
          "execution_count": 34
        }
      ]
    },
    {
      "cell_type": "markdown",
      "source": [
        "Now we will use Tensor Dataset to connect the features and labeling and create a complete dataset. And now we can work with this data in PyTorch neural networks."
      ],
      "metadata": {
        "id": "UAEd025Jhk7G"
      }
    },
    {
      "cell_type": "code",
      "metadata": {
        "id": "Y6Yio0lMhJHC"
      },
      "source": [
        "dataset = torch.utils.data.TensorDataset(X_train, y_train)"
      ],
      "execution_count": 35,
      "outputs": []
    },
    {
      "cell_type": "code",
      "metadata": {
        "id": "XbHuCVOLhS5u",
        "colab": {
          "base_uri": "https://localhost:8080/"
        },
        "outputId": "a0e7548e-6e2c-465a-acd7-84c2c4af89ad"
      },
      "source": [
        "type(dataset)"
      ],
      "execution_count": 36,
      "outputs": [
        {
          "output_type": "execute_result",
          "data": {
            "text/plain": [
              "torch.utils.data.dataset.TensorDataset"
            ]
          },
          "metadata": {},
          "execution_count": 36
        }
      ]
    },
    {
      "cell_type": "markdown",
      "source": [
        "Now we will use Data loader. It will combines a dataset and a sampler, and provides an iterable over the given dataset (also divides the data into batches(."
      ],
      "metadata": {
        "id": "6Qyvpczlh9Dy"
      }
    },
    {
      "cell_type": "code",
      "metadata": {
        "id": "YEN5jCO-hZyT"
      },
      "source": [
        "train_loader = torch.utils.data.DataLoader(dataset, batch_size=10)"
      ],
      "execution_count": 37,
      "outputs": []
    },
    {
      "cell_type": "markdown",
      "metadata": {
        "id": "QGDLesyDQpIb"
      },
      "source": [
        "## Neural network structure\n",
        "30 -> 16 -> 16 -> 1"
      ]
    },
    {
      "cell_type": "code",
      "metadata": {
        "id": "G8a5pCYviAHQ"
      },
      "source": [
        "network = nn.Sequential(nn.Linear(in_features=30, out_features=16),\n",
        "                        nn.Sigmoid(),\n",
        "                        nn.Linear(16, 16),\n",
        "                        nn.Sigmoid(),\n",
        "                        nn.Linear(16, 1),\n",
        "                        nn.Sigmoid())"
      ],
      "execution_count": 38,
      "outputs": []
    },
    {
      "cell_type": "markdown",
      "source": [
        "Network summary"
      ],
      "metadata": {
        "id": "GkQCJOzEid_t"
      }
    },
    {
      "cell_type": "code",
      "metadata": {
        "id": "Z3KO31Cbjrxb",
        "colab": {
          "base_uri": "https://localhost:8080/"
        },
        "outputId": "2222ff38-6ba0-4fc9-a754-15d4e54233a2"
      },
      "source": [
        "network.parameters"
      ],
      "execution_count": 39,
      "outputs": [
        {
          "output_type": "execute_result",
          "data": {
            "text/plain": [
              "<bound method Module.parameters of Sequential(\n",
              "  (0): Linear(in_features=30, out_features=16, bias=True)\n",
              "  (1): Sigmoid()\n",
              "  (2): Linear(in_features=16, out_features=16, bias=True)\n",
              "  (3): Sigmoid()\n",
              "  (4): Linear(in_features=16, out_features=1, bias=True)\n",
              "  (5): Sigmoid()\n",
              ")>"
            ]
          },
          "metadata": {},
          "execution_count": 39
        }
      ]
    },
    {
      "cell_type": "markdown",
      "source": [
        "Now we will create a Loss function (binary cross entropy) and optimizer"
      ],
      "metadata": {
        "id": "19M7GqJ4ikpm"
      }
    },
    {
      "cell_type": "code",
      "metadata": {
        "id": "Zi67gpD2jw2d"
      },
      "source": [
        "loss_function = nn.BCELoss()"
      ],
      "execution_count": 40,
      "outputs": []
    },
    {
      "cell_type": "code",
      "metadata": {
        "id": "c5DwvzzpkCIS"
      },
      "source": [
        "optimizer = torch.optim.Adam(network.parameters(), lr = 0.001)"
      ],
      "execution_count": 41,
      "outputs": []
    },
    {
      "cell_type": "markdown",
      "source": [
        "## Training the neural network on the Training se"
      ],
      "metadata": {
        "id": "FIBpPg7ujBjj"
      }
    },
    {
      "cell_type": "code",
      "source": [
        "epochs = 100\n",
        "avg_loss = 0\n",
        "loss_list, epochs_list = [], []"
      ],
      "metadata": {
        "id": "NJHIENQapcNt"
      },
      "execution_count": 42,
      "outputs": []
    },
    {
      "cell_type": "code",
      "metadata": {
        "id": "Yn2TbtzfkP19",
        "colab": {
          "base_uri": "https://localhost:8080/"
        },
        "outputId": "b73dddcb-5047-48df-86f2-e7ab2e24785c"
      },
      "source": [
        "for epoch in range(epochs):\n",
        "  running_loss = 0.\n",
        "\n",
        "  for data in train_loader:\n",
        "    batch_features, batch_labels = data\n",
        "    optimizer.zero_grad()\n",
        "\n",
        "    predictions = network.forward(batch_features) \n",
        "    loss = loss_function(predictions, batch_labels)\n",
        "    loss.backward()\n",
        "    optimizer.step()\n",
        "\n",
        "    running_loss += loss.item()\n",
        "  if running_loss != 0:\n",
        "    avg_loss = running_loss / len(train_loader)\n",
        "\n",
        "  loss_list.append(avg_loss)\n",
        "  epochs_list.append(epoch)\n",
        "\n",
        "  print('Epoch: ' + str(epoch + 1) + ' loss: ' + str(avg_loss))"
      ],
      "execution_count": 43,
      "outputs": [
        {
          "output_type": "stream",
          "name": "stdout",
          "text": [
            "Epoch: 1 loss: 0.6881840797357781\n",
            "Epoch: 2 loss: 0.6563529192015182\n",
            "Epoch: 3 loss: 0.6427541804868121\n",
            "Epoch: 4 loss: 0.6318875613600708\n",
            "Epoch: 5 loss: 0.6219042428704196\n",
            "Epoch: 6 loss: 0.6121489821478378\n",
            "Epoch: 7 loss: 0.5976687628169393\n",
            "Epoch: 8 loss: 0.5871931106545204\n",
            "Epoch: 9 loss: 0.5693600316380345\n",
            "Epoch: 10 loss: 0.555535614490509\n",
            "Epoch: 11 loss: 0.5361818102903144\n",
            "Epoch: 12 loss: 0.5171440361544143\n",
            "Epoch: 13 loss: 0.5033535181089889\n",
            "Epoch: 14 loss: 0.48080487237420194\n",
            "Epoch: 15 loss: 0.46891444505647173\n",
            "Epoch: 16 loss: 0.4448774637177933\n",
            "Epoch: 17 loss: 0.431413859128952\n",
            "Epoch: 18 loss: 0.41920604539472\n",
            "Epoch: 19 loss: 0.39192274975222213\n",
            "Epoch: 20 loss: 0.3797962353673092\n",
            "Epoch: 21 loss: 0.3696094817200372\n",
            "Epoch: 22 loss: 0.35430972763272217\n",
            "Epoch: 23 loss: 0.33906821975874346\n",
            "Epoch: 24 loss: 0.3220069789609244\n",
            "Epoch: 25 loss: 0.32648636400699615\n",
            "Epoch: 26 loss: 0.31368763640869496\n",
            "Epoch: 27 loss: 0.33704225718975067\n",
            "Epoch: 28 loss: 0.332017403009326\n",
            "Epoch: 29 loss: 0.2976228456164515\n",
            "Epoch: 30 loss: 0.29693165490793627\n",
            "Epoch: 31 loss: 0.29870742992606275\n",
            "Epoch: 32 loss: 0.29189272086287654\n",
            "Epoch: 33 loss: 0.28817021119040115\n",
            "Epoch: 34 loss: 0.28012257485195646\n",
            "Epoch: 35 loss: 0.2889956812872443\n",
            "Epoch: 36 loss: 0.272239287925321\n",
            "Epoch: 37 loss: 0.28375125503124193\n",
            "Epoch: 38 loss: 0.2946337509986966\n",
            "Epoch: 39 loss: 0.26382267423147376\n",
            "Epoch: 40 loss: 0.2667748785989229\n",
            "Epoch: 41 loss: 0.2706062235804491\n",
            "Epoch: 42 loss: 0.25789439210364984\n",
            "Epoch: 43 loss: 0.25737285458071285\n",
            "Epoch: 44 loss: 0.260546283839747\n",
            "Epoch: 45 loss: 0.25004297685484556\n",
            "Epoch: 46 loss: 0.24451893620019735\n",
            "Epoch: 47 loss: 0.24402652793498927\n",
            "Epoch: 48 loss: 0.24133611730364865\n",
            "Epoch: 49 loss: 0.23342363146501918\n",
            "Epoch: 50 loss: 0.23089280516602273\n",
            "Epoch: 51 loss: 0.2298729837287304\n",
            "Epoch: 52 loss: 0.2279920432456704\n",
            "Epoch: 53 loss: 0.22694560798794725\n",
            "Epoch: 54 loss: 0.22641820070701976\n",
            "Epoch: 55 loss: 0.22397874070461407\n",
            "Epoch: 56 loss: 0.22467677901650585\n",
            "Epoch: 57 loss: 0.22300376552481985\n",
            "Epoch: 58 loss: 0.22212978686357654\n",
            "Epoch: 59 loss: 0.22190228312514548\n",
            "Epoch: 60 loss: 0.22056304429506146\n",
            "Epoch: 61 loss: 0.21977125957261684\n",
            "Epoch: 62 loss: 0.21876772805008776\n",
            "Epoch: 63 loss: 0.21784673414604608\n",
            "Epoch: 64 loss: 0.21701066967013272\n",
            "Epoch: 65 loss: 0.2162761367684187\n",
            "Epoch: 66 loss: 0.21566536849321322\n",
            "Epoch: 67 loss: 0.21519702196467755\n",
            "Epoch: 68 loss: 0.21490521954242572\n",
            "Epoch: 69 loss: 0.2148814826857212\n",
            "Epoch: 70 loss: 0.21540219085507614\n",
            "Epoch: 71 loss: 0.2174480082683785\n",
            "Epoch: 72 loss: 0.2181528528589149\n",
            "Epoch: 73 loss: 0.21723598926219828\n",
            "Epoch: 74 loss: 0.21496851031863412\n",
            "Epoch: 75 loss: 0.21561290384378545\n",
            "Epoch: 76 loss: 0.21782607953389024\n",
            "Epoch: 77 loss: 0.21042628854859707\n",
            "Epoch: 78 loss: 0.21662748622339825\n",
            "Epoch: 79 loss: 0.21586355601632318\n",
            "Epoch: 80 loss: 0.21235439371924067\n",
            "Epoch: 81 loss: 0.21416091052598732\n",
            "Epoch: 82 loss: 0.2123614284534787\n",
            "Epoch: 83 loss: 0.21203447237264278\n",
            "Epoch: 84 loss: 0.21354453863446102\n",
            "Epoch: 85 loss: 0.21130878868144612\n",
            "Epoch: 86 loss: 0.21324387556591698\n",
            "Epoch: 87 loss: 0.21211465526112291\n",
            "Epoch: 88 loss: 0.21483384709545347\n",
            "Epoch: 89 loss: 0.2042673084624978\n",
            "Epoch: 90 loss: 0.21043632404748783\n",
            "Epoch: 91 loss: 0.21285194548410039\n",
            "Epoch: 92 loss: 0.21364328100584273\n",
            "Epoch: 93 loss: 0.20965364324145538\n",
            "Epoch: 94 loss: 0.21210757720955584\n",
            "Epoch: 95 loss: 0.21334401752020038\n",
            "Epoch: 96 loss: 0.20786470248428887\n",
            "Epoch: 97 loss: 0.21217042679876782\n",
            "Epoch: 98 loss: 0.2142783581864002\n",
            "Epoch: 99 loss: 0.20836368766288424\n",
            "Epoch: 100 loss: 0.21203555673534094\n"
          ]
        }
      ]
    },
    {
      "cell_type": "markdown",
      "source": [
        "### Loss Visualization\n"
      ],
      "metadata": {
        "id": "YuYh-0IJoQyx"
      }
    },
    {
      "cell_type": "code",
      "source": [
        "plt.plot(epochs_list,loss_list, label=\"Training Loss\")\n",
        "plt.title('model loss')\n",
        "plt.ylabel('loss')\n",
        "plt.xlabel('epoch')\n",
        "plt.legend()\n",
        "plt.show()"
      ],
      "metadata": {
        "colab": {
          "base_uri": "https://localhost:8080/",
          "height": 295
        },
        "id": "JOQvDY5yoTYx",
        "outputId": "01093f3e-9cc4-4375-b581-1014a53ba0ee"
      },
      "execution_count": 45,
      "outputs": [
        {
          "output_type": "display_data",
          "data": {
            "text/plain": [
              "<Figure size 432x288 with 1 Axes>"
            ],
            "image/png": "[encoded data removed]"
          },
          "metadata": {
            "needs_background": "light"
          }
        }
      ]
    },
    {
      "cell_type": "markdown",
      "metadata": {
        "id": "AyTjLzELSdQF"
      },
      "source": [
        "## Evaluate"
      ]
    },
    {
      "cell_type": "markdown",
      "source": [
        "We use `eval()` to set network's layers to evaluation mode before running inference.<br>\n",
        "If we wish to resuming training, we can call `network.train()` to set these layers to training mode."
      ],
      "metadata": {
        "id": "7b8Fu4slo4bY"
      }
    },
    {
      "cell_type": "code",
      "metadata": {
        "id": "lznvtd0vmyFu",
        "colab": {
          "base_uri": "https://localhost:8080/"
        },
        "outputId": "c6131d28-bf60-48ea-8816-5e42a1a8f8ab"
      },
      "source": [
        "network.eval()"
      ],
      "execution_count": 46,
      "outputs": [
        {
          "output_type": "execute_result",
          "data": {
            "text/plain": [
              "Sequential(\n",
              "  (0): Linear(in_features=30, out_features=16, bias=True)\n",
              "  (1): Sigmoid()\n",
              "  (2): Linear(in_features=16, out_features=16, bias=True)\n",
              "  (3): Sigmoid()\n",
              "  (4): Linear(in_features=16, out_features=1, bias=True)\n",
              "  (5): Sigmoid()\n",
              ")"
            ]
          },
          "metadata": {},
          "execution_count": 46
        }
      ]
    },
    {
      "cell_type": "markdown",
      "source": [
        "Data transformation for the test set"
      ],
      "metadata": {
        "id": "LN4Sz14zqWeg"
      }
    },
    {
      "cell_type": "code",
      "metadata": {
        "id": "jbfwUSOCnAqY",
        "colab": {
          "base_uri": "https://localhost:8080/"
        },
        "outputId": "e71f4b91-d823-45ac-81c8-803a23334d51"
      },
      "source": [
        "type(X_test)"
      ],
      "execution_count": 47,
      "outputs": [
        {
          "output_type": "execute_result",
          "data": {
            "text/plain": [
              "numpy.ndarray"
            ]
          },
          "metadata": {},
          "execution_count": 47
        }
      ]
    },
    {
      "cell_type": "code",
      "metadata": {
        "id": "4FX-fotsnEsW",
        "colab": {
          "base_uri": "https://localhost:8080/"
        },
        "outputId": "de9a7b38-1c74-4067-92f6-12518c7c1ce5"
      },
      "source": [
        "X_test = torch.tensor(X_test, dtype=torch.float)\n",
        "type(X_test)"
      ],
      "execution_count": 48,
      "outputs": [
        {
          "output_type": "execute_result",
          "data": {
            "text/plain": [
              "torch.Tensor"
            ]
          },
          "metadata": {},
          "execution_count": 48
        }
      ]
    },
    {
      "cell_type": "markdown",
      "source": [
        "### Test model performance"
      ],
      "metadata": {
        "id": "qeL48glzqpGU"
      }
    },
    {
      "cell_type": "markdown",
      "source": [
        "As we can see the model returned us a list with probabilities"
      ],
      "metadata": {
        "id": "pNgTFM1TrBLd"
      }
    },
    {
      "cell_type": "code",
      "metadata": {
        "id": "EEw01uzUnMYs",
        "colab": {
          "base_uri": "https://localhost:8080/"
        },
        "outputId": "33ecda34-dfff-4f12-8709-a81380504df1"
      },
      "source": [
        "predictions = network.forward(X_test)\n",
        "predictions[:5]"
      ],
      "execution_count": 49,
      "outputs": [
        {
          "output_type": "execute_result",
          "data": {
            "text/plain": [
              "tensor([[0.9869],\n",
              "        [0.0111],\n",
              "        [0.0111],\n",
              "        [0.7101],\n",
              "        [0.0868]], grad_fn=<SliceBackward>)"
            ]
          },
          "metadata": {},
          "execution_count": 49
        }
      ]
    },
    {
      "cell_type": "markdown",
      "source": [
        "We will replace the list of probabilities with a list of booleans. For the sake of this matter, we will use a threshold of 0.5"
      ],
      "metadata": {
        "id": "WiJqATNdrEfJ"
      }
    },
    {
      "cell_type": "code",
      "metadata": {
        "id": "2h1ZtXPnnpiy",
        "colab": {
          "base_uri": "https://localhost:8080/"
        },
        "outputId": "1f35482c-f92c-4745-c37f-7c614a345aef"
      },
      "source": [
        "predictions = np.array(predictions > 0.5)\n",
        "predictions[:5]"
      ],
      "execution_count": 50,
      "outputs": [
        {
          "output_type": "execute_result",
          "data": {
            "text/plain": [
              "array([[ True],\n",
              "       [False],\n",
              "       [False],\n",
              "       [ True],\n",
              "       [False]])"
            ]
          },
          "metadata": {},
          "execution_count": 50
        }
      ]
    },
    {
      "cell_type": "code",
      "metadata": {
        "id": "CENEXHlIoKni",
        "colab": {
          "base_uri": "https://localhost:8080/"
        },
        "outputId": "e7fce112-28e7-4ba0-f23c-be7d2d750bd2"
      },
      "source": [
        "y_test[:5]"
      ],
      "execution_count": 51,
      "outputs": [
        {
          "output_type": "execute_result",
          "data": {
            "text/plain": [
              "array([1, 0, 0, 1, 0])"
            ]
          },
          "metadata": {},
          "execution_count": 51
        }
      ]
    },
    {
      "cell_type": "code",
      "metadata": {
        "id": "rfjEpilWoSt8",
        "colab": {
          "base_uri": "https://localhost:8080/"
        },
        "outputId": "f485009d-ad1c-4428-cd11-dea81dedd018"
      },
      "source": [
        "accuracy_score(y_test, predictions)"
      ],
      "execution_count": 52,
      "outputs": [
        {
          "output_type": "execute_result",
          "data": {
            "text/plain": [
              "0.958041958041958"
            ]
          },
          "metadata": {},
          "execution_count": 52
        }
      ]
    },
    {
      "cell_type": "code",
      "metadata": {
        "id": "9HLl2Iy0oZ_p",
        "colab": {
          "base_uri": "https://localhost:8080/"
        },
        "outputId": "6be89d40-7ac2-4ca0-9c6c-64a7f65a4763"
      },
      "source": [
        "cm = confusion_matrix(y_test, predictions)\n",
        "cm"
      ],
      "execution_count": 53,
      "outputs": [
        {
          "output_type": "execute_result",
          "data": {
            "text/plain": [
              "array([[46,  5],\n",
              "       [ 1, 91]])"
            ]
          },
          "metadata": {},
          "execution_count": 53
        }
      ]
    },
    {
      "cell_type": "code",
      "metadata": {
        "id": "VMfT3Ll9ofyi",
        "colab": {
          "base_uri": "https://localhost:8080/",
          "height": 285
        },
        "outputId": "37bb2f3c-7e31-429d-f0ae-f375a002e4bd"
      },
      "source": [
        "import seaborn as sns\n",
        "sns.heatmap(cm, annot=True)"
      ],
      "execution_count": 54,
      "outputs": [
        {
          "output_type": "execute_result",
          "data": {
            "text/plain": [
              "<matplotlib.axes._subplots.AxesSubplot at 0x7fb8275ebd00>"
            ]
          },
          "metadata": {},
          "execution_count": 54
        },
        {
          "output_type": "display_data",
          "data": {
            "text/plain": [
              "<Figure size 432x288 with 2 Axes>"
            ],
            "image/png": "[encoded data removed]"
          },
          "metadata": {
            "needs_background": "light"
          }
        }
      ]
    }
  ]
}